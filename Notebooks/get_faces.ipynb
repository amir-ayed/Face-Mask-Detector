{
 "metadata": {
  "language_info": {
   "codemirror_mode": {
    "name": "ipython",
    "version": 3
   },
   "file_extension": ".py",
   "mimetype": "text/x-python",
   "name": "python",
   "nbconvert_exporter": "python",
   "pygments_lexer": "ipython3",
   "version": "3.7.10"
  },
  "orig_nbformat": 2,
  "kernelspec": {
   "name": "python3",
   "display_name": "Python 3.7.10 64-bit ('venv': conda)",
   "metadata": {
    "interpreter": {
     "hash": "5c838e5e26d595aba5fdcde8383c20a63306af5173c3092a7296bd4e6a055658"
    }
   }
  }
 },
 "nbformat": 4,
 "nbformat_minor": 2,
 "cells": [
  {
   "cell_type": "code",
   "execution_count": 1,
   "metadata": {},
   "outputs": [],
   "source": [
    "import cv2\n",
    "import os"
   ]
  },
  {
   "cell_type": "code",
   "execution_count": 8,
   "metadata": {},
   "outputs": [],
   "source": [
    "path = r'C:\\Users\\msi\\Mini_projet\\Medical mask\\Medical mask\\Medical Mask\\images'\n",
    "new_path = r'C:\\Users\\msi\\Mini_projet\\Medical mask\\Medical mask\\Medical Mask\\faces_2'\n",
    "p = r'C:\\Users\\msi\\Desktop\\masks'\n",
    "new_p = r'C:\\Users\\msi\\Desktop\\all_simples' "
   ]
  },
  {
   "cell_type": "code",
   "execution_count": 9,
   "metadata": {},
   "outputs": [],
   "source": [
    "def get_faces(img):\n",
    "    gray = cv2.cvtColor(img, cv2.COLOR_BGR2GRAY)\n",
    "    faces = faceCascade.detectMultiScale(gray, scaleFactor=1.3, minNeighbors=3, minSize=(30, 30))\n",
    "    for (x, y, w, h) in faces:\n",
    "        roi_color = img[y-2:y + h+2, x-2:x + w+2]\n",
    "        img_name = str(w) + str(h) + '.jpg'\n",
    "        cv2.imwrite(os.path.join(new_p, img_name), roi_color)"
   ]
  },
  {
   "cell_type": "code",
   "execution_count": 10,
   "metadata": {},
   "outputs": [],
   "source": [
    "def process_dataset():\n",
    "    for im in os.listdir(p):\n",
    "        im_path = os.path.join(p, im)\n",
    "        img = cv2.imread(im_path)\n",
    "        get_faces(img)"
   ]
  },
  {
   "cell_type": "code",
   "execution_count": 11,
   "metadata": {},
   "outputs": [],
   "source": [
    "faceCascade = cv2.CascadeClassifier(\"haarcascade_frontalface_default.xml\")"
   ]
  },
  {
   "cell_type": "code",
   "execution_count": null,
   "metadata": {},
   "outputs": [],
   "source": [
    "process_dataset()"
   ]
  }
 ]
}