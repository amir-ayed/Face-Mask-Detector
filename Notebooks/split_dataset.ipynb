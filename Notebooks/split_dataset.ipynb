{
 "metadata": {
  "language_info": {
   "codemirror_mode": {
    "name": "ipython",
    "version": 3
   },
   "file_extension": ".py",
   "mimetype": "text/x-python",
   "name": "python",
   "nbconvert_exporter": "python",
   "pygments_lexer": "ipython3",
   "version": "3.7.10"
  },
  "orig_nbformat": 2,
  "kernelspec": {
   "name": "python3",
   "display_name": "Python 3.7.10 64-bit ('venv': conda)",
   "metadata": {
    "interpreter": {
     "hash": "5c838e5e26d595aba5fdcde8383c20a63306af5173c3092a7296bd4e6a055658"
    }
   }
  }
 },
 "nbformat": 4,
 "nbformat_minor": 2,
 "cells": [
  {
   "cell_type": "code",
   "execution_count": 1,
   "metadata": {},
   "outputs": [],
   "source": [
    "import os"
   ]
  },
  {
   "cell_type": "code",
   "execution_count": 8,
   "metadata": {},
   "outputs": [
    {
     "output_type": "stream",
     "name": "stdout",
     "text": [
      "Mask    1004\nNo Mask 1190\n"
     ]
    }
   ],
   "source": [
    "print('Mask   ', len(os.listdir('mask_res/')))\n",
    "print('No Mask', len(os.listdir('no_mask_res')))"
   ]
  },
  {
   "cell_type": "code",
   "execution_count": 9,
   "metadata": {},
   "outputs": [],
   "source": [
    "try:\n",
    "    os.mkdir('Train')\n",
    "    os.mkdir('Test')\n",
    "    os.mkdir('Train/mask')\n",
    "    os.mkdir('Train/no_mask')\n",
    "    os.mkdir('Test/mask')\n",
    "    os.mkdir('Test/no_mask')\n",
    "except OSError:\n",
    "    pass"
   ]
  },
  {
   "cell_type": "code",
   "execution_count": 10,
   "metadata": {},
   "outputs": [],
   "source": [
    "import random\n",
    "from shutil import copyfile"
   ]
  },
  {
   "cell_type": "code",
   "execution_count": 11,
   "metadata": {},
   "outputs": [],
   "source": [
    "def split_data(source, training, testing, split_size):\n",
    "    files = []\n",
    "    for filename in os.listdir(source):\n",
    "        file = source + filename\n",
    "        if os.path.getsize(file) > 0:\n",
    "            files.append(filename)\n",
    "        else:\n",
    "            print(filename + \"is zero length, so ignoring.\")\n",
    "    training_length = int(len(files) * split_size)\n",
    "    testing_length = int(len(files) - training_length)\n",
    "    shuffled_set = random.sample(files, len(files))\n",
    "    training_set = shuffled_set[0:training_length]\n",
    "    testing_set = shuffled_set[:testing_length]\n",
    "\n",
    "    for filename in training_set:\n",
    "        curr_file = source + filename\n",
    "        destination = training + filename\n",
    "        copyfile(curr_file, destination)\n",
    "\n",
    "    for filename in testing_set:\n",
    "        curr_file = source + filename\n",
    "        destination = testing + filename\n",
    "        copyfile(curr_file, destination)"
   ]
  },
  {
   "cell_type": "code",
   "execution_count": 12,
   "metadata": {},
   "outputs": [],
   "source": [
    "mask = 'mask_res/'\n",
    "no_mask = 'no_mask_res/'\n",
    "\n",
    "training_mask = 'Train/mask/'\n",
    "training_no_mask = 'Train/no_mask/'\n",
    "\n",
    "testing_mask = 'Test/mask/'\n",
    "testing_no_mask = 'Test/no_mask/'"
   ]
  },
  {
   "cell_type": "code",
   "execution_count": 13,
   "metadata": {},
   "outputs": [],
   "source": [
    "split_size = .8\n",
    "split_data(mask, training_mask, testing_mask, split_size)\n",
    "split_data(no_mask, training_no_mask, testing_no_mask, split_size)"
   ]
  },
  {
   "cell_type": "code",
   "execution_count": 14,
   "metadata": {},
   "outputs": [
    {
     "output_type": "stream",
     "name": "stdout",
     "text": [
      "803 201\n952 238\n"
     ]
    }
   ],
   "source": [
    "print(len(os.listdir(training_mask)), len(os.listdir(testing_mask)))\n",
    "print(len(os.listdir(training_no_mask)), len(os.listdir(testing_no_mask)))"
   ]
  }
 ]
}