{
 "metadata": {
  "language_info": {
   "codemirror_mode": {
    "name": "ipython",
    "version": 3
   },
   "file_extension": ".py",
   "mimetype": "text/x-python",
   "name": "python",
   "nbconvert_exporter": "python",
   "pygments_lexer": "ipython3",
   "version": "3.7.10"
  },
  "orig_nbformat": 2,
  "kernelspec": {
   "name": "python3",
   "display_name": "Python 3.7.10 64-bit ('venv': conda)",
   "metadata": {
    "interpreter": {
     "hash": "5c838e5e26d595aba5fdcde8383c20a63306af5173c3092a7296bd4e6a055658"
    }
   }
  }
 },
 "nbformat": 4,
 "nbformat_minor": 2,
 "cells": [
  {
   "cell_type": "code",
   "execution_count": 1,
   "metadata": {},
   "outputs": [],
   "source": [
    "import cv2\n",
    "import os"
   ]
  },
  {
   "cell_type": "code",
   "execution_count": 2,
   "metadata": {},
   "outputs": [],
   "source": [
    "path1 = r'C:\\Users\\msi\\Mini_projet\\face mask detector\\mask'\n",
    "path2 = r'C:\\Users\\msi\\Mini_projet\\face mask detector\\no_mask'\n",
    "p = r'C:\\Users\\msi\\Mini_projet\\face mask detector'"
   ]
  },
  {
   "cell_type": "code",
   "execution_count": 3,
   "metadata": {},
   "outputs": [],
   "source": [
    "im = cv2.imread('13.jpg')\n",
    "w = 124\n",
    "h = 124\n",
    "dim = (w, h)"
   ]
  },
  {
   "cell_type": "code",
   "execution_count": 5,
   "metadata": {},
   "outputs": [
    {
     "output_type": "execute_result",
     "data": {
      "text/plain": [
       "True"
      ]
     },
     "metadata": {},
     "execution_count": 5
    }
   ],
   "source": [
    "resized = cv2.resize(im, dim, interpolation=cv2.INTER_AREA)\n",
    "cv2.imwrite(os.path.join(p, '131.jpg'), resized)"
   ]
  },
  {
   "cell_type": "code",
   "execution_count": 6,
   "metadata": {},
   "outputs": [],
   "source": [
    "import os \n",
    "import cv2"
   ]
  },
  {
   "cell_type": "code",
   "execution_count": 7,
   "metadata": {},
   "outputs": [],
   "source": [
    "path1 = r'C:\\Users\\msi\\Mini_projet\\face mask detector\\mask'\n",
    "path2 = r'C:\\Users\\msi\\Mini_projet\\face mask detector\\no_mask'\n",
    "\n",
    "new1 = r'C:\\Users\\msi\\Mini_projet\\face mask detector\\mask_res'\n",
    "new2 = r'C:\\Users\\msi\\Mini_projet\\face mask detector\\no_mask_res'"
   ]
  },
  {
   "cell_type": "code",
   "execution_count": 12,
   "metadata": {},
   "outputs": [],
   "source": [
    "def resize_img(path, new_path, dim=(224, 224)):\n",
    "    for im in os.listdir(path):\n",
    "        try:\n",
    "            img = cv2.imread(os.path.join(path, im))\n",
    "            resized = cv2.resize(img, dim, interpolation=cv2.INTER_AREA)\n",
    "            cv2.imwrite(os.path.join(new_path, im), resized)\n",
    "        except:\n",
    "            print('err')"
   ]
  },
  {
   "cell_type": "code",
   "execution_count": 9,
   "metadata": {},
   "outputs": [],
   "source": [
    "resize_img(path1, new1)"
   ]
  },
  {
   "cell_type": "code",
   "execution_count": 13,
   "metadata": {},
   "outputs": [],
   "source": [
    "resize_img(path2, new2)"
   ]
  }
 ]
}